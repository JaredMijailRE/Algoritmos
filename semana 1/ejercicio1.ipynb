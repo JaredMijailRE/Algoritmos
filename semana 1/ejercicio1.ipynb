{
 "cells": [
  {
   "cell_type": "markdown",
   "metadata": {
    "vscode": {
     "languageId": "plaintext"
    }
   },
   "source": [
    "Dado el problema la primera duda que surgio es el formato de los datos y como cargarlos, la forma mas facil que se encontro es atraves de python con una libreria como pandas, el algoritmos de procesamiento de los datos en si es facil sin embargo para hacerlo mas interesante se utilizara programacion paralela, ya que recientemente realize un curso de cuda, entonces para ponerlo en practica sin embargo como tal sle usara numba para permanecer en python y no tener que compilar una libreria de C++ con Pybind"
   ]
  },
  {
   "cell_type": "code",
   "execution_count": null,
   "metadata": {
    "vscode": {
     "languageId": "plaintext"
    }
   },
   "outputs": [],
   "source": [
    "// Cargamos los datos organizados con una columna creditos y otra nota\n",
    "\n"
   ]
  }
 ],
 "metadata": {
  "language_info": {
   "name": "python"
  }
 },
 "nbformat": 4,
 "nbformat_minor": 2
}
