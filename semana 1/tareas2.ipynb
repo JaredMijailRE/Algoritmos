{
 "cells": [
  {
   "cell_type": "markdown",
   "metadata": {},
   "source": [
    "Se supone que dado el problema debe haber alguna forma de calcular este numero de forma analitica, sin embargo, no es claro el como se podria calcular, por ello otra forma de solucionar el problema es por medio de una simulacion que de forma iterativa aproxime esta probabilidad, algo asi como una solucion por medio de un metodo numerico.\n",
    "\n",
    "Asi que vamos a crear una funcion simulacion, que devuelva el porcentaje de cuantos estudiantes pasaron almenos una vez, esta funcion va a recibir cuantos estudiantes van a pasar por clase, y despues vamos a correr esta funcion multiples veces para tener resultados precisos."
   ]
  },
  {
   "cell_type": "code",
   "execution_count": 3,
   "metadata": {},
   "outputs": [],
   "source": [
    "import random"
   ]
  },
  {
   "cell_type": "code",
   "execution_count": 4,
   "metadata": {},
   "outputs": [],
   "source": [
    "def simulacion(num_estudiantes: int, num_simulations: int) -> float:\n",
    "    respuestas = []\n",
    "    for _ in range(num_simulations):\n",
    "        totalEstdiantes = 50\n",
    "        estudiantes = [False] * totalEstdiantes\n",
    "        clases = 32\n",
    "        for _ in range(clases):\n",
    "            for _ in range(num_estudiantes):\n",
    "                estudiantes[random.randint(0, 49)] = True\n",
    "        respuestas.append(sum(estudiantes)/totalEstdiantes)\n",
    "        \n",
    "    return sum(respuestas)/num_simulations"
   ]
  },
  {
   "cell_type": "code",
   "execution_count": 6,
   "metadata": {},
   "outputs": [
    {
     "name": "stdout",
     "output_type": "stream",
     "text": [
      "Para 0 estudiantes porcentaje: 0.0\n",
      "Para 1 estudiantes porcentaje: 47.659999999999954\n",
      "Para 2 estudiantes porcentaje: 72.3860000000001\n",
      "Para 3 estudiantes porcentaje: 85.48799999999997\n",
      "Para 4 estudiantes porcentaje: 92.4880000000002\n",
      "Para 5 estudiantes porcentaje: 96.068000000001\n",
      "Para 6 estudiantes porcentaje: 97.89800000000085\n",
      "Para 7 estudiantes porcentaje: 98.93800000000056\n",
      "Para 8 estudiantes porcentaje: 99.4220000000003\n",
      "Para 9 estudiantes porcentaje: 99.70200000000018\n",
      "Para 10 estudiantes porcentaje: 99.8560000000001\n",
      "Para 11 estudiantes porcentaje: 99.91400000000006\n",
      "Para 12 estudiantes porcentaje: 99.95800000000003\n",
      "Para 13 estudiantes porcentaje: 99.98200000000001\n",
      "Para 14 estudiantes porcentaje: 99.98\n",
      "Para 15 estudiantes porcentaje: 99.99000000000001\n",
      "Para 16 estudiantes porcentaje: 99.992\n",
      "Para 17 estudiantes porcentaje: 100.0\n",
      "Para 18 estudiantes porcentaje: 99.998\n",
      "Para 19 estudiantes porcentaje: 99.998\n",
      "Para 20 estudiantes porcentaje: 100.0\n",
      "Para 21 estudiantes porcentaje: 100.0\n",
      "Para 22 estudiantes porcentaje: 100.0\n",
      "Para 23 estudiantes porcentaje: 100.0\n",
      "Para 24 estudiantes porcentaje: 100.0\n",
      "Para 25 estudiantes porcentaje: 100.0\n",
      "Para 26 estudiantes porcentaje: 100.0\n",
      "Para 27 estudiantes porcentaje: 100.0\n",
      "Para 28 estudiantes porcentaje: 100.0\n",
      "Para 29 estudiantes porcentaje: 100.0\n",
      "Para 30 estudiantes porcentaje: 100.0\n",
      "Para 31 estudiantes porcentaje: 100.0\n",
      "Para 32 estudiantes porcentaje: 100.0\n",
      "Para 33 estudiantes porcentaje: 100.0\n",
      "Para 34 estudiantes porcentaje: 100.0\n",
      "Para 35 estudiantes porcentaje: 100.0\n",
      "Para 36 estudiantes porcentaje: 100.0\n",
      "Para 37 estudiantes porcentaje: 100.0\n",
      "Para 38 estudiantes porcentaje: 100.0\n",
      "Para 39 estudiantes porcentaje: 100.0\n",
      "Para 40 estudiantes porcentaje: 100.0\n",
      "Para 41 estudiantes porcentaje: 100.0\n",
      "Para 42 estudiantes porcentaje: 100.0\n",
      "Para 43 estudiantes porcentaje: 100.0\n",
      "Para 44 estudiantes porcentaje: 100.0\n",
      "Para 45 estudiantes porcentaje: 100.0\n",
      "Para 46 estudiantes porcentaje: 100.0\n",
      "Para 47 estudiantes porcentaje: 100.0\n",
      "Para 48 estudiantes porcentaje: 100.0\n",
      "Para 49 estudiantes porcentaje: 100.0\n"
     ]
    }
   ],
   "source": [
    "for i in range(50):\n",
    "    print('Para ' + str(i) + ' estudiantes porcentaje: ' + str(simulacion(i, 1000) * 100))"
   ]
  },
  {
   "cell_type": "markdown",
   "metadata": {},
   "source": [
    "Por lo que pudimos ver con nuestras simulaciones que corrimos 1000 veces, para alcanzar el 85 porcierto el numero de estudiantes que deben pasar por clase mas optimo, son 3 estudiantes."
   ]
  }
 ],
 "metadata": {
  "kernelspec": {
   "display_name": ".venv",
   "language": "python",
   "name": "python3"
  },
  "language_info": {
   "codemirror_mode": {
    "name": "ipython",
    "version": 3
   },
   "file_extension": ".py",
   "mimetype": "text/x-python",
   "name": "python",
   "nbconvert_exporter": "python",
   "pygments_lexer": "ipython3",
   "version": "3.11.9"
  }
 },
 "nbformat": 4,
 "nbformat_minor": 2
}
