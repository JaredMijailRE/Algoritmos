{
 "cells": [
  {
   "cell_type": "markdown",
   "metadata": {},
   "source": [
    "Se supone que dado el problema debe haber alguna forma de calcular este número de forma analitica, sin embargo, no es claro el cómo se podría calcular, por ello otra forma de solucionar el problema es por medio de una simulación que de forma iterativa aproxime esta probabilidad, algo así como una solución por medio de un método numérico.\n",
    "\n",
    "\n",
    "Así que vamos a crear una función simulación, que devuelva el porcentaje de cuántos estudiantes pasaron al menos una vez, esta función va a recibir cuántos estudiantes van a pasar por clase, y después vamos a correr esta función múltiples veces para tener resultados precisos."
   ]
  },
  {
   "cell_type": "code",
   "execution_count": 4,
   "metadata": {},
   "outputs": [],
   "source": [
    "import random"
   ]
  },
  {
   "cell_type": "code",
   "execution_count": 5,
   "metadata": {},
   "outputs": [],
   "source": [
    "def simulacion(num_estudiantes: int, num_simulations: int) -> float:\n",
    "    respuestas = []\n",
    "    for _ in range(num_simulations):\n",
    "        totalEstdiantes = 50\n",
    "        estudiantes = [False] * totalEstdiantes\n",
    "        clases = 32\n",
    "        for _ in range(clases):\n",
    "            for _ in range(num_estudiantes):\n",
    "                estudiantes[random.randint(0, 49)] = True\n",
    "        respuestas.append(sum(estudiantes)/totalEstdiantes)\n",
    "        \n",
    "    return sum(respuestas)/num_simulations"
   ]
  },
  {
   "cell_type": "code",
   "execution_count": 6,
   "metadata": {},
   "outputs": [
    {
     "name": "stdout",
     "output_type": "stream",
     "text": [
      "Para 0 estudiantes porcentaje: 0.0\n",
      "Para 1 estudiantes porcentaje: 47.68199999999992\n",
      "Para 2 estudiantes porcentaje: 72.54600000000013\n",
      "Para 3 estudiantes porcentaje: 85.47400000000025\n",
      "Para 4 estudiantes porcentaje: 92.39600000000031\n",
      "Para 5 estudiantes porcentaje: 96.03600000000097\n",
      "Para 6 estudiantes porcentaje: 97.90200000000085\n",
      "Para 7 estudiantes porcentaje: 98.94200000000055\n",
      "Para 8 estudiantes porcentaje: 99.43400000000031\n",
      "Para 9 estudiantes porcentaje: 99.68200000000017\n",
      "Para 10 estudiantes porcentaje: 99.85000000000008\n",
      "Para 11 estudiantes porcentaje: 99.90000000000006\n",
      "Para 12 estudiantes porcentaje: 99.92600000000004\n",
      "Para 13 estudiantes porcentaje: 99.98000000000002\n",
      "Para 14 estudiantes porcentaje: 99.98200000000001\n",
      "Para 15 estudiantes porcentaje: 99.994\n",
      "Para 16 estudiantes porcentaje: 99.998\n",
      "Para 17 estudiantes porcentaje: 100.0\n",
      "Para 18 estudiantes porcentaje: 100.0\n",
      "Para 19 estudiantes porcentaje: 100.0\n",
      "Para 20 estudiantes porcentaje: 100.0\n",
      "Para 21 estudiantes porcentaje: 100.0\n",
      "Para 22 estudiantes porcentaje: 100.0\n",
      "Para 23 estudiantes porcentaje: 100.0\n"
     ]
    }
   ],
   "source": [
    "for i in range(24):\n",
    "    print('Para ' + str(i) + ' estudiantes porcentaje: ' + str(simulacion(i, 1000) * 100))"
   ]
  },
  {
   "cell_type": "markdown",
   "metadata": {},
   "source": [
    "Por lo que pudimos ver con nuestras simulaciones que corrimos 1000 veces, para alcanzar el 85 porcierto el numero de estudiantes que deben pasar por clase mas optimo, son 3 estudiantes."
   ]
  },
  {
   "cell_type": "markdown",
   "metadata": {},
   "source": [
    "### Implementacion en paralelo\n",
    "\n",
    "Ahora vamos a realizar lo mismo con un kernel de forma que podamos correr muchas simulaciones"
   ]
  },
  {
   "cell_type": "code",
   "execution_count": null,
   "metadata": {},
   "outputs": [],
   "source": [
    "import numpy as np\n",
    "from numba import cuda\n",
    "from numba.cuda.random import create_xoroshiro128p_states, xoroshiro128p_uniform_float32\n",
    "NUM_SIMULATIONS = 10000"
   ]
  },
  {
   "cell_type": "code",
   "execution_count": null,
   "metadata": {},
   "outputs": [],
   "source": [
    "@cuda.jit\n",
    "def simulation(num_estudiantes: int, respuestas, rng_states):\n",
    "    index = cuda.threadIdx.x + cuda.blockIdx.x * cuda.blockDim.x\n",
    "    respuestas_inter = cuda.local.array(NUM_SIMULATIONS, dtype=np.float32)\n",
    "    for n in range(NUM_SIMULATIONS):\n",
    "        totalEstudiantes = 50\n",
    "        estudiantes = cuda.local.array(totalEstudiantes, dtype=np.bool_)\n",
    "        for i in range(totalEstudiantes):\n",
    "            estudiantes[i] = False\n",
    "        clases = 32\n",
    "        for _ in range(clases):\n",
    "            for _ in range(num_estudiantes):\n",
    "                numero_uniforme = xoroshiro128p_uniform_float32(rng_states, index)\n",
    "                random = int(numero_uniforme * totalEstudiantes)\n",
    "                estudiantes[random] = True\n",
    "        suma_estudiantes = 0.0\n",
    "        for i in range(totalEstudiantes):\n",
    "            if estudiantes[i]:\n",
    "                suma_estudiantes += 1.0\n",
    "        respuestas_inter[n] = suma_estudiantes / totalEstudiantes\n",
    "    suma_total = 0.0\n",
    "    for i in range(NUM_SIMULATIONS):\n",
    "        suma_total += respuestas_inter[i]\n",
    "    respuestas[index] = suma_total / NUM_SIMULATIONS\n",
    "\n",
    "def multi_implementation(num_estudiantes: int):\n",
    "    threads_per_block = 1024\n",
    "    num_blocks = 92\n",
    "    total_threads = threads_per_block * num_blocks\n",
    "    respuestas = cuda.to_device(np.zeros(total_threads, dtype=np.float32))\n",
    "    rng_states = create_xoroshiro128p_states(total_threads, seed=42)\n",
    "    simulation[num_blocks, threads_per_block](num_estudiantes, respuestas, rng_states)\n",
    "    respuestas_host = respuestas.copy_to_host()\n",
    "    return respuestas_host.sum() / total_threads"
   ]
  },
  {
   "cell_type": "markdown",
   "metadata": {},
   "source": [
    "Para este codigo basicamente lo que se hizo es un kernel que realice lo mismo que la función simulación, pero cada una de estas simulaciones es realizada por un hilo de la GPU, y cada uno de estos resultados después es obtenido por la función multi implementación, y se saca el promedio de estas múltiples simulaciones corridas en paralelo, y se promedian.\n",
    "\n",
    "\n",
    "De forma que por cada número de estudiantes que pasan por clase se corre un total de 942080000 de simulaciones.\n",
    "\n",
    "\n",
    "Lo más complicado fue calcular los números aleatorios pues en cuda se realiza de una forma particular."
   ]
  },
  {
   "cell_type": "code",
   "execution_count": null,
   "metadata": {},
   "outputs": [
    {
     "name": "stderr",
     "output_type": "stream",
     "text": [
      "d:\\Documentos\\GitHub\\Algoritmos\\.venv\\Lib\\site-packages\\numba\\cuda\\dispatcher.py:536: NumbaPerformanceWarning: \u001b[1mGrid size 92 will likely result in GPU under-utilization due to low occupancy.\u001b[0m\n",
      "  warn(NumbaPerformanceWarning(msg))\n"
     ]
    },
    {
     "name": "stdout",
     "output_type": "stream",
     "text": [
      "Para 0 estudiantes porcentaje: 0.0\n",
      "Para 1 estudiantes porcentaje: 47.611767\n",
      "Para 2 estudiantes porcentaje: 72.55474\n",
      "Para 3 estudiantes porcentaje: 85.62176\n",
      "Para 4 estudiantes porcentaje: 92.46761\n",
      "Para 5 estudiantes porcentaje: 96.053894\n",
      "Para 6 estudiantes porcentaje: 97.932724\n",
      "Para 7 estudiantes porcentaje: 98.91688\n",
      "Para 8 estudiantes porcentaje: 99.432625\n",
      "Para 9 estudiantes porcentaje: 99.70273\n",
      "Para 10 estudiantes porcentaje: 99.844284\n",
      "Para 11 estudiantes porcentaje: 99.91843\n",
      "Para 12 estudiantes porcentaje: 99.95725\n",
      "Para 13 estudiantes porcentaje: 99.97761\n",
      "Para 14 estudiantes porcentaje: 99.98827\n",
      "Para 15 estudiantes porcentaje: 99.99386\n",
      "Para 16 estudiantes porcentaje: 99.99677\n",
      "Para 17 estudiantes porcentaje: 99.99831\n",
      "Para 18 estudiantes porcentaje: 99.99912\n",
      "Para 19 estudiantes porcentaje: 99.999535\n"
     ]
    }
   ],
   "source": [
    "if __name__ == '__main__':\n",
    "    for i in range(10):\n",
    "        print('Para ' + str(i) + ' estudiantes porcentaje: ' + str(multi_implementation(i) * 100))\n"
   ]
  },
  {
   "cell_type": "markdown",
   "metadata": {},
   "source": [
    "De igual forma esto se hiso mas para experimentar pues es posible que el intervalo de confianza tan solo con 1000 simulaciones ya era bastante alto."
   ]
  }
 ],
 "metadata": {
  "kernelspec": {
   "display_name": ".venv",
   "language": "python",
   "name": "python3"
  },
  "language_info": {
   "codemirror_mode": {
    "name": "ipython",
    "version": 3
   },
   "file_extension": ".py",
   "mimetype": "text/x-python",
   "name": "python",
   "nbconvert_exporter": "python",
   "pygments_lexer": "ipython3",
   "version": "3.11.9"
  }
 },
 "nbformat": 4,
 "nbformat_minor": 2
}
